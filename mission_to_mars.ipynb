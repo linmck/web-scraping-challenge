{
 "cells": [
  {
   "cell_type": "code",
   "execution_count": 1,
   "metadata": {},
   "outputs": [],
   "source": [
    "#Import dependencies\n",
    "from bs4 import BeautifulSoup as bs\n",
    "import requests\n",
    "from splinter import Browser\n",
    "import pandas as pd\n",
    "import pprint"
   ]
  },
  {
   "cell_type": "code",
   "execution_count": 2,
   "metadata": {},
   "outputs": [
    {
     "name": "stdout",
     "output_type": "stream",
     "text": [
      "Latest Mars News:\n",
      "NASA Invites Students to Name Mars 2020 Rover\n",
      "Through Nov. 1, K-12 students in the U.S. are encouraged to enter an essay contest to name NASA's next Mars rover.\n"
     ]
    }
   ],
   "source": [
    "#Scrape the NASA Mars News site for latest article\n",
    "nasa_mars_news_url = 'https://mars.nasa.gov/news/'\n",
    "news_response = requests.get(nasa_mars_news_url)\n",
    "news_soup = bs(news_response.text, 'html.parser')\n",
    "\n",
    "#Collect the section with the latest News Title and Paragraph Text\n",
    "news_stories = news_soup.find('div', class_= 'slide')\n",
    "\n",
    "#Assign the title to variable\n",
    "news_title = (news_stories.find('div', class_='content_title').text).strip('\\n')\n",
    "\n",
    "#Assign the article paragraph to variable\n",
    "news_p = (news_stories.find('div', class_='rollover_description').text).strip('\\n')\n",
    "\n",
    "#Print latest news\n",
    "print(f'Latest Mars News:\\n{news_title}\\n{news_p}')"
   ]
  },
  {
   "cell_type": "code",
   "execution_count": 3,
   "metadata": {},
   "outputs": [],
   "source": [
    "#Use splinter to navigate the site and find the image url for the current Featured Mars Image (full size jpg) \n",
    "executable_path = {'executable_path': '/usr/local/bin/chromedriver'}\n",
    "browser = Browser('chrome', **executable_path, headless=False)\n",
    "jpl_url = 'https://www.jpl.nasa.gov/spaceimages/?search=&category=Mars'\n",
    "browser.visit(jpl_url)"
   ]
  },
  {
   "cell_type": "code",
   "execution_count": 4,
   "metadata": {},
   "outputs": [
    {
     "name": "stdout",
     "output_type": "stream",
     "text": [
      "https://www.jpl.nasa.gov/spaceimages/images/wallpaper/PIA14254-1920x1200.jpg\n"
     ]
    }
   ],
   "source": [
    "#Scrape JPL site for full size, feature image url\n",
    "jpl_response = requests.get(jpl_url)\n",
    "jpl_soup = bs(jpl_response.text, 'html.parser')\n",
    "\n",
    "#Pull out only the background image string\n",
    "current_image_url = str(jpl_soup.find('article', class_= 'carousel_item')).split(\"background-image: url('/\")[1].split(\"')\")[0]\n",
    "\n",
    "#Save a complete url string for the current full sized Featured Mars Image to variable\n",
    "featured_image_url = f'https://www.jpl.nasa.gov/{current_image_url}'\n",
    "\n",
    "#Print the url for the featured image\n",
    "print(featured_image_url)"
   ]
  },
  {
   "cell_type": "code",
   "execution_count": 5,
   "metadata": {},
   "outputs": [],
   "source": [
    "#Visit the Mars Weather twitter account \n",
    "mars_twitter_url = 'https://twitter.com/marswxreport?lang=en'\n",
    "browser.visit(mars_twitter_url)"
   ]
  },
  {
   "cell_type": "code",
   "execution_count": 6,
   "metadata": {},
   "outputs": [
    {
     "name": "stdout",
     "output_type": "stream",
     "text": [
      "Current Weather on Mars:\n",
      "InSight sol 361 (2019-12-02) low -98.2ºC (-144.7ºF) high -21.2ºC (-6.2ºF)\n",
      "winds from the SSW at 4.9 m/s (11.0 mph) gusting to 18.9 m/s (42.3 mph)\n",
      "pressure at 6.70 hPa\n"
     ]
    }
   ],
   "source": [
    "#Scrape the latest Mars weather tweet from the page\n",
    "twitter_response = requests.get(mars_twitter_url)\n",
    "twitter_soup = bs(twitter_response.text, 'html.parser')\n",
    "\n",
    "#Collect the most recent tweet\n",
    "tweet = twitter_soup.find('div', class_= 'original-tweet')\n",
    "\n",
    "#Save the tweet text for the weather report as a variable called \n",
    "mars_weather = (tweet.find('p', class_='tweet-text').text).split('pic')[0]\n",
    "\n",
    "#Print current weather\n",
    "print(f'Current Weather on Mars:\\n{mars_weather}')"
   ]
  },
  {
   "cell_type": "code",
   "execution_count": 7,
   "metadata": {},
   "outputs": [],
   "source": [
    "#Visit the Mars Facts webpage\n",
    "mars_facts_url = 'https://space-facts.com/mars/'\n",
    "browser.visit(mars_facts_url)"
   ]
  },
  {
   "cell_type": "code",
   "execution_count": 8,
   "metadata": {},
   "outputs": [
    {
     "data": {
      "text/plain": [
       "[                      0                              1\n",
       " 0  Equatorial Diameter:                       6,792 km\n",
       " 1       Polar Diameter:                       6,752 km\n",
       " 2                 Mass:  6.39 × 10^23 kg (0.11 Earths)\n",
       " 3                Moons:            2 (Phobos & Deimos)\n",
       " 4       Orbit Distance:       227,943,824 km (1.38 AU)\n",
       " 5         Orbit Period:           687 days (1.9 years)\n",
       " 6  Surface Temperature:                   -87 to -5 °C\n",
       " 7         First Record:              2nd millennium BC\n",
       " 8          Recorded By:           Egyptian astronomers]"
      ]
     },
     "execution_count": 8,
     "metadata": {},
     "output_type": "execute_result"
    }
   ],
   "source": [
    "#Scrape the Mars Space facts site\n",
    "facts_response = requests.get(mars_facts_url)\n",
    "facts_soup = bs(facts_response.text, 'html.parser')\n",
    "\n",
    "#Collect the data from the table\n",
    "facts_table = str(facts_soup.find('table', class_= 'tablepress'))\n",
    "\n",
    "# print(facts_table.prettify())\n",
    "\n",
    "#Use Pandas to convert the data to a HTML table string\n",
    "facts = pd.read_html(facts_table)\n",
    "\n",
    "#Print mars facts\n",
    "facts"
   ]
  },
  {
   "cell_type": "code",
   "execution_count": 9,
   "metadata": {},
   "outputs": [],
   "source": [
    "#Visit the USGS Astrogeology site to obtain high resolution images for each of Mar's hemispheres.\n",
    "hemisphere_url = 'https://astrogeology.usgs.gov/search/results?q=hemisphere+enhanced&k1=target&v1=Mars'\n",
    "browser.visit(hemisphere_url)"
   ]
  },
  {
   "cell_type": "code",
   "execution_count": 10,
   "metadata": {},
   "outputs": [
    {
     "name": "stdout",
     "output_type": "stream",
     "text": [
      "[   {   'link': 'https://astrogeology.usgs.gov//search/map/Mars/Viking/cerberus_enhanced',\n",
      "        'title': 'Cerberus Hemisphere Enhanced'},\n",
      "    {   'link': 'https://astrogeology.usgs.gov//search/map/Mars/Viking/schiaparelli_enhanced',\n",
      "        'title': 'Schiaparelli Hemisphere Enhanced'},\n",
      "    {   'link': 'https://astrogeology.usgs.gov//search/map/Mars/Viking/syrtis_major_enhanced',\n",
      "        'title': 'Syrtis Major Hemisphere Enhanced'},\n",
      "    {   'link': 'https://astrogeology.usgs.gov//search/map/Mars/Viking/valles_marineris_enhanced',\n",
      "        'title': 'Valles Marineris Hemisphere Enhanced'}]\n"
     ]
    }
   ],
   "source": [
    "#Scrape the astrogeology site\n",
    "hemisphere_response = requests.get(hemisphere_url)\n",
    "hemisphere_soup = bs(hemisphere_response.text, 'html.parser')\n",
    "\n",
    "#Collect all hemisphere titles and image urls\n",
    "products = hemisphere_soup.find_all('div', class_= 'item')\n",
    "hemisphere_image_urls = []\n",
    "\n",
    "#Loop through products and create dictionary\n",
    "for product in products:\n",
    "    title = product.find('h3').text\n",
    "    link = product.a['href']\n",
    "    \n",
    "    hemisphere = {\n",
    "        'title': title,\n",
    "        'link': f'https://astrogeology.usgs.gov{link}'\n",
    "    }\n",
    "    \n",
    "    hemisphere_image_urls.append(hemisphere)\n",
    "\n",
    "#Print list of dictionaries\n",
    "pp = pprint.PrettyPrinter(indent=4)\n",
    "pp.pprint(hemisphere_image_urls)"
   ]
  },
  {
   "cell_type": "code",
   "execution_count": null,
   "metadata": {},
   "outputs": [],
   "source": []
  }
 ],
 "metadata": {
  "kernelspec": {
   "display_name": "Python 3",
   "language": "python",
   "name": "python3"
  },
  "language_info": {
   "codemirror_mode": {
    "name": "ipython",
    "version": 3
   },
   "file_extension": ".py",
   "mimetype": "text/x-python",
   "name": "python",
   "nbconvert_exporter": "python",
   "pygments_lexer": "ipython3",
   "version": "3.6.9"
  }
 },
 "nbformat": 4,
 "nbformat_minor": 2
}
